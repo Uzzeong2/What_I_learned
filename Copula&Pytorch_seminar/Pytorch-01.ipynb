{
 "cells": [
  {
   "cell_type": "markdown",
   "metadata": {
    "id": "10b153d3-dc8d-4202-a397-75b32ac07943"
   },
   "source": [
    "# Week1. Tensor / Datasets - Practice"
   ]
  },
  {
   "cell_type": "markdown",
   "metadata": {
    "id": "43854512-ecc9-4d33-af52-b2ff25bb5dff"
   },
   "source": [
    "## 0. Preparing"
   ]
  },
  {
   "cell_type": "code",
   "execution_count": 1,
   "metadata": {
    "executionInfo": {
     "elapsed": 3751,
     "status": "ok",
     "timestamp": 1625040775647,
     "user": {
      "displayName": "‎고유정(자연과학대학 통계학과)",
      "photoUrl": "",
      "userId": "17559400864214048391"
     },
     "user_tz": -540
    },
    "id": "71a86067-5312-450a-a4b7-b6b6208deeb2"
   },
   "outputs": [],
   "source": [
    "# These are the libraries will be used for this lab.\n",
    "\n",
    "import torch \n",
    "import numpy as np \n",
    "import pandas as pd\n",
    "\n",
    "import matplotlib.pyplot as plt\n",
    "%matplotlib inline  "
   ]
  },
  {
   "cell_type": "code",
   "execution_count": 2,
   "metadata": {
    "colab": {
     "base_uri": "https://localhost:8080/",
     "height": 35
    },
    "executionInfo": {
     "elapsed": 10,
     "status": "ok",
     "timestamp": 1625040775648,
     "user": {
      "displayName": "‎고유정(자연과학대학 통계학과)",
      "photoUrl": "",
      "userId": "17559400864214048391"
     },
     "user_tz": -540
    },
    "id": "7e433395-6ace-4e73-baee-08a47fa9df60",
    "outputId": "1c6a0ce7-fdc8-4697-f284-755dec6e3ef7"
   },
   "outputs": [
    {
     "data": {
      "application/vnd.google.colaboratory.intrinsic+json": {
       "type": "string"
      },
      "text/plain": [
       "'1.9.0+cu102'"
      ]
     },
     "execution_count": 2,
     "metadata": {
      "tags": []
     },
     "output_type": "execute_result"
    }
   ],
   "source": [
    "torch.__version__"
   ]
  },
  {
   "cell_type": "markdown",
   "metadata": {
    "id": "448f2ced-e2f5-4ea5-ac2f-3da352227f5f"
   },
   "source": [
    "## 1-1. 1D Tensors"
   ]
  },
  {
   "cell_type": "markdown",
   "metadata": {
    "id": "6de42737-ce78-4bd7-a700-838c38d2f79f"
   },
   "source": [
    "\n",
    "### 데이터 타입에 따른 dtype / tensor 정리   \n",
    "[pytorch 공식사이트 : TORCH.TENSOR](https://pytorch.org/docs/stable/tensors.html)  \n",
    "  \n",
    "| 데이터 타입 | dtype | CPU tensor | GPU tensor|  \n",
    "| :-: | :-: | :-: | :-: |  \n",
    "|32bit float | `torch.float32` or `torch.float` | `torch.FloatTensor` | `torch.cuda.FloatTensor`|  \n",
    "|64bit float | `torch.float64` or `torch.double` | `torch.DoubleTensor` | `torch.cuda.DoubleTensor`|  \n",
    "|16bit float | `torch.float16` or `torch.half`  | `torch.HalfTensor` | `torch.cuda.HalfTensor`|  \n",
    "|32bit int | `torch.int32` or `torch.int` | `torch.IntTensor` | `torch.cuda.IntTensor`|  \n",
    "|64bit int | `torch.int64` or `torch.long` | `torch.LongTensor` | `torch.cuda.LongTensor`|  \n",
    "|16bit int | `torch.int16` or `torch.short` | `torch.ShortTensor` | `torch.cuda.Short`|"
   ]
  },
  {
   "cell_type": "markdown",
   "metadata": {
    "id": "7b5577ca-dfbe-4d32-ae4d-6c520f583946"
   },
   "source": [
    "### 1-1-1. Types and Shapes"
   ]
  },
  {
   "cell_type": "markdown",
   "metadata": {
    "id": "7f8f2394-c090-4a37-bcad-669abb4d08c0",
    "tags": []
   },
   "source": [
    "Try to convert <code>your_tensor</code> to a 1X5 tensor.\n"
   ]
  },
  {
   "cell_type": "code",
   "execution_count": 3,
   "metadata": {
    "executionInfo": {
     "elapsed": 6,
     "status": "ok",
     "timestamp": 1625040775649,
     "user": {
      "displayName": "‎고유정(자연과학대학 통계학과)",
      "photoUrl": "",
      "userId": "17559400864214048391"
     },
     "user_tz": -540
    },
    "id": "51f150d8-3cec-4319-9ee7-76889309a1e3"
   },
   "outputs": [],
   "source": [
    "# Practice: convert the following tensor to a tensor object with 1 row and 5 columns\n",
    "\n",
    "your_tensor = torch.tensor([1, 2, 3, 4, 5])"
   ]
  },
  {
   "cell_type": "code",
   "execution_count": 4,
   "metadata": {
    "colab": {
     "base_uri": "https://localhost:8080/"
    },
    "executionInfo": {
     "elapsed": 251,
     "status": "ok",
     "timestamp": 1625040775894,
     "user": {
      "displayName": "‎고유정(자연과학대학 통계학과)",
      "photoUrl": "",
      "userId": "17559400864214048391"
     },
     "user_tz": -540
    },
    "id": "8b5e8f0d-86d6-405d-b5ef-90ab4d2df55e",
    "outputId": "b7a8cf73-30aa-491b-8c20-ee34dd5eadc9"
   },
   "outputs": [
    {
     "name": "stdout",
     "output_type": "stream",
     "text": [
      "tensor([[1, 2, 3, 4, 5]])\n",
      "Tensor Size :  torch.Size([1, 5])\n"
     ]
    }
   ],
   "source": [
    "answer = your_tensor.view(1,5)\n",
    "print(answer)\n",
    "print('Tensor Size : ', answer.size())"
   ]
  },
  {
   "cell_type": "markdown",
   "metadata": {
    "id": "96f668b7-1216-461f-a3a1-7df35616763c"
   },
   "source": [
    "### 1-1-2. Indexing and Slicing"
   ]
  },
  {
   "cell_type": "markdown",
   "metadata": {
    "id": "d4206801-b865-422d-9270-52f2ea486c8f"
   },
   "source": [
    "Try to change the values on index 3, 4, 7 of the following tensor to 0.\n"
   ]
  },
  {
   "cell_type": "code",
   "execution_count": 5,
   "metadata": {
    "executionInfo": {
     "elapsed": 10,
     "status": "ok",
     "timestamp": 1625040775895,
     "user": {
      "displayName": "‎고유정(자연과학대학 통계학과)",
      "photoUrl": "",
      "userId": "17559400864214048391"
     },
     "user_tz": -540
    },
    "id": "c748194b-7bc5-49c0-bdee-d4e4d47feab7"
   },
   "outputs": [],
   "source": [
    "# Practice: Change the values on index 3, 4, 7 to 0\n",
    "\n",
    "practice_tensor = torch.tensor([2, 7, 3, 4, 6, 2, 3, 1, 2])"
   ]
  },
  {
   "cell_type": "code",
   "execution_count": 6,
   "metadata": {
    "colab": {
     "base_uri": "https://localhost:8080/"
    },
    "executionInfo": {
     "elapsed": 9,
     "status": "ok",
     "timestamp": 1625040775895,
     "user": {
      "displayName": "‎고유정(자연과학대학 통계학과)",
      "photoUrl": "",
      "userId": "17559400864214048391"
     },
     "user_tz": -540
    },
    "id": "4638607f-4049-479b-8fe3-7c250420ae2e",
    "outputId": "1106c97a-b318-494a-a63d-b0ad030856b1"
   },
   "outputs": [
    {
     "name": "stdout",
     "output_type": "stream",
     "text": [
      "tensor([2, 7, 3, 0, 0, 2, 3, 0, 2])\n"
     ]
    }
   ],
   "source": [
    "index = [3,4,7]\n",
    "practice_tensor[index] = torch.tensor([0])\n",
    "# practice_tensor[index] = 0\n",
    "print(practice_tensor)"
   ]
  },
  {
   "cell_type": "markdown",
   "metadata": {
    "id": "d1fde30e-718a-400c-9530-13f871985523"
   },
   "source": [
    "### 1-1-3. sin & `torch.linspace()`"
   ]
  },
  {
   "cell_type": "markdown",
   "metadata": {
    "id": "68ebf488-3405-4c3c-913a-2147ad74f69f"
   },
   "source": [
    "Construct a tensor with 25 steps in the range 0 to π/2. Print out the Maximum and Minimum number. Also, plot  a graph showing the diagram that shows the result.\n"
   ]
  },
  {
   "cell_type": "code",
   "execution_count": 7,
   "metadata": {
    "colab": {
     "base_uri": "https://localhost:8080/",
     "height": 319
    },
    "executionInfo": {
     "elapsed": 372,
     "status": "ok",
     "timestamp": 1625040776261,
     "user": {
      "displayName": "‎고유정(자연과학대학 통계학과)",
      "photoUrl": "",
      "userId": "17559400864214048391"
     },
     "user_tz": -540
    },
    "id": "c1cca26b-bf13-4c1f-b275-5b77bd32d8a1",
    "outputId": "0acd964d-4ba3-4389-c133-fef5350f4048"
   },
   "outputs": [
    {
     "name": "stdout",
     "output_type": "stream",
     "text": [
      "max x :  tensor(1.5708)\n",
      "max x :  tensor(0.)\n"
     ]
    },
    {
     "data": {
      "text/plain": [
       "[<matplotlib.lines.Line2D at 0x7f854d92eb90>]"
      ]
     },
     "execution_count": 7,
     "metadata": {
      "tags": []
     },
     "output_type": "execute_result"
    },
    {
     "data": {
      "image/png": "[encoded data removed]",
      "text/plain": [
       "<Figure size 432x288 with 1 Axes>"
      ]
     },
     "metadata": {
      "needs_background": "light",
      "tags": []
     },
     "output_type": "display_data"
    }
   ],
   "source": [
    "# Practice: Create your tensor, print max and min number, plot the sin result diagram\n",
    "\n",
    "# Type your code here\n",
    "x = torch.linspace(0, np.pi/2, steps=25)\n",
    "print('max x : ', x.max())\n",
    "print('max x : ', x.min())\n",
    "y = torch.sin(x)\n",
    "\n",
    "plt.plot(x.numpy(), y.numpy())"
   ]
  },
  {
   "cell_type": "code",
   "execution_count": 8,
   "metadata": {
    "colab": {
     "base_uri": "https://localhost:8080/",
     "height": 283
    },
    "executionInfo": {
     "elapsed": 10,
     "status": "ok",
     "timestamp": 1625040776582,
     "user": {
      "displayName": "‎고유정(자연과학대학 통계학과)",
      "photoUrl": "",
      "userId": "17559400864214048391"
     },
     "user_tz": -540
    },
    "id": "db89d945-db15-40ec-8b3b-199bbc8ea65a",
    "outputId": "b17bd419-c8f7-4ca9-89be-b8e7e8e30069"
   },
   "outputs": [
    {
     "data": {
      "text/plain": [
       "[<matplotlib.lines.Line2D at 0x7f854d425a50>]"
      ]
     },
     "execution_count": 8,
     "metadata": {
      "tags": []
     },
     "output_type": "execute_result"
    },
    {
     "data": {
      "image/png": "[encoded data removed]",
      "text/plain": [
       "<Figure size 432x288 with 1 Axes>"
      ]
     },
     "metadata": {
      "needs_background": "light",
      "tags": []
     },
     "output_type": "display_data"
    }
   ],
   "source": [
    "x = torch.linspace(0, 2*np.pi, steps=25)\n",
    "y = torch.sin(x)\n",
    "plt.vlines(x=0, ymin=-1, ymax=1, color='red')\n",
    "plt.vlines(x=np.pi/2, ymin=-1, ymax=1, color='red')\n",
    "plt.plot(x.numpy(), y.numpy())"
   ]
  },
  {
   "cell_type": "markdown",
   "metadata": {
    "id": "dd81f8b0-e2c3-4397-9b5b-e9152c7772bf"
   },
   "source": [
    "### 1-1-4. Tensor Operations"
   ]
  },
  {
   "cell_type": "markdown",
   "metadata": {
    "id": "1fbe26f6-a462-4fb1-a644-a5f2c23faa53"
   },
   "source": [
    "Implement the tensor subtraction with <code>u</code> and <code>v</code> as u-v.\n"
   ]
  },
  {
   "cell_type": "markdown",
   "metadata": {
    "id": "6894e895-8c31-4013-a287-b360497617b9"
   },
   "source": [
    "#### Addition and Subtraction"
   ]
  },
  {
   "cell_type": "code",
   "execution_count": 9,
   "metadata": {
    "colab": {
     "base_uri": "https://localhost:8080/"
    },
    "executionInfo": {
     "elapsed": 300,
     "status": "ok",
     "timestamp": 1625040811712,
     "user": {
      "displayName": "‎고유정(자연과학대학 통계학과)",
      "photoUrl": "",
      "userId": "17559400864214048391"
     },
     "user_tz": -540
    },
    "id": "ad8ee351-7a2a-4d8e-8a5b-38386042fc46",
    "outputId": "52660877-53ce-4f60-eba0-64b48b855b45",
    "tags": []
   },
   "outputs": [
    {
     "name": "stdout",
     "output_type": "stream",
     "text": [
      "tensor([ 1, -1])\n"
     ]
    }
   ],
   "source": [
    "# Try by yourself to get a result of u-v\n",
    "\n",
    "u = torch.tensor([1, 0])\n",
    "v = torch.tensor([0, 1])\n",
    "\n",
    "w = u - v\n",
    "print(w)"
   ]
  },
  {
   "cell_type": "markdown",
   "metadata": {
    "id": "4299cf2f-db93-4165-aca7-07d6f58f843f"
   },
   "source": [
    "참고로 현재 버전 pytorch에서는 dtype 다른 tensor들끼리도 연산이 가능하다.  \n",
    "결과값은 `float64` 텐서다."
   ]
  },
  {
   "cell_type": "code",
   "execution_count": 10,
   "metadata": {
    "colab": {
     "base_uri": "https://localhost:8080/"
    },
    "executionInfo": {
     "elapsed": 251,
     "status": "ok",
     "timestamp": 1625040864543,
     "user": {
      "displayName": "‎고유정(자연과학대학 통계학과)",
      "photoUrl": "",
      "userId": "17559400864214048391"
     },
     "user_tz": -540
    },
    "id": "1d1f09b0-52de-406a-82b8-a67f5fd19b16",
    "outputId": "5c2cc4a7-b5bd-4dd8-a89a-bb22badb42b8"
   },
   "outputs": [
    {
     "data": {
      "text/plain": [
       "tensor([2., 4., 6.], dtype=torch.float64)"
      ]
     },
     "execution_count": 10,
     "metadata": {
      "tags": []
     },
     "output_type": "execute_result"
    }
   ],
   "source": [
    "torch.tensor([1,2,3],dtype=torch.int64)+torch.tensor([1,2,3],dtype=torch.float64)"
   ]
  },
  {
   "cell_type": "markdown",
   "metadata": {
    "id": "1387797a-3641-4c4d-b16a-db275c2da272"
   },
   "source": [
    "#### Dot Product"
   ]
  },
  {
   "cell_type": "markdown",
   "metadata": {
    "id": "3599d2bd-8e05-41b0-ab0b-b50c6d72f0e9"
   },
   "source": [
    "Convert the list <i>[-1, 1]</i> and <i>[1, 1]</i> to tensors <code>u</code> and <code>v</code>. Then, plot the tensor <code>u</code> and <code>v</code> as a vector by using the function <code>plotVec</code> and find the dot product:\n"
   ]
  },
  {
   "cell_type": "code",
   "execution_count": 11,
   "metadata": {
    "executionInfo": {
     "elapsed": 2,
     "status": "ok",
     "timestamp": 1625040865428,
     "user": {
      "displayName": "‎고유정(자연과학대학 통계학과)",
      "photoUrl": "",
      "userId": "17559400864214048391"
     },
     "user_tz": -540
    },
    "id": "a57d6e61-bbfc-483d-a789-0290a146c044"
   },
   "outputs": [],
   "source": [
    "# Plot vecotrs, please keep the parameters in the same length\n",
    "# @param: Vectors = [{\"vector\": vector variable, \"name\": name of vector, \"color\": color of the vector on diagram}]\n",
    "    \n",
    "def plotVec(vectors):\n",
    "    ax = plt.axes()\n",
    "    \n",
    "    # For loop to draw the vectors\n",
    "    for vec in vectors:\n",
    "        ax.arrow(0, 0, *vec[\"vector\"], head_width = 0.05,color = vec[\"color\"], head_length = 0.1)\n",
    "        plt.text(*(vec[\"vector\"] + 0.1), vec[\"name\"])\n",
    "    \n",
    "    plt.ylim(-2,2)\n",
    "    plt.xlim(-2,2)"
   ]
  },
  {
   "cell_type": "code",
   "execution_count": 12,
   "metadata": {
    "colab": {
     "base_uri": "https://localhost:8080/",
     "height": 287
    },
    "executionInfo": {
     "elapsed": 281,
     "status": "ok",
     "timestamp": 1625040915358,
     "user": {
      "displayName": "‎고유정(자연과학대학 통계학과)",
      "photoUrl": "",
      "userId": "17559400864214048391"
     },
     "user_tz": -540
    },
    "id": "bf199c5d-40f0-4bb4-a24b-3cfb3126e0b5",
    "outputId": "9375ba2f-53bd-4f13-a67e-2c6d0fb88412"
   },
   "outputs": [
    {
     "name": "stdout",
     "output_type": "stream",
     "text": [
      "Dot Product of u, v tensor(0)\n"
     ]
    },
    {
     "data": {
      "image/png": "[encoded data removed]",
      "text/plain": [
       "<Figure size 432x288 with 1 Axes>"
      ]
     },
     "metadata": {
      "needs_background": "light",
      "tags": []
     },
     "output_type": "display_data"
    }
   ],
   "source": [
    "# Practice: calculate the dot product of u and v, and plot out two vectors\n",
    "\n",
    "# Type your code here\n",
    "u = torch.tensor([-1,1])\n",
    "v = torch.tensor([1,1])\n",
    "\n",
    "print('Dot Product of u, v', torch.dot(u,v)) # -1 * 1 + 1 * 1\n",
    "plotVec([\n",
    "    {\"vector\": u.numpy(), \"name\": 'u', \"color\": 'r'},\n",
    "    {\"vector\": v.numpy(), \"name\": 'v', \"color\": 'b'},\n",
    "])"
   ]
  },
  {
   "cell_type": "markdown",
   "metadata": {
    "id": "32469d9b-e300-4d60-9efe-00f9edfe2c2e"
   },
   "source": [
    "### 1-1-5. cf) broadcast"
   ]
  },
  {
   "cell_type": "code",
   "execution_count": 13,
   "metadata": {
    "executionInfo": {
     "elapsed": 241,
     "status": "ok",
     "timestamp": 1625041007235,
     "user": {
      "displayName": "‎고유정(자연과학대학 통계학과)",
      "photoUrl": "",
      "userId": "17559400864214048391"
     },
     "user_tz": -540
    },
    "id": "6c2a5191-8c87-4fb1-b0b5-b4f0e3ab32bd"
   },
   "outputs": [],
   "source": [
    "x = np.arange(4)\n",
    "xx = x.reshape(4,1)\n",
    "y = np.ones(5)\n",
    "z = np.ones((3,4))"
   ]
  },
  {
   "cell_type": "code",
   "execution_count": 18,
   "metadata": {
    "colab": {
     "base_uri": "https://localhost:8080/"
    },
    "executionInfo": {
     "elapsed": 246,
     "status": "ok",
     "timestamp": 1625041047733,
     "user": {
      "displayName": "‎고유정(자연과학대학 통계학과)",
      "photoUrl": "",
      "userId": "17559400864214048391"
     },
     "user_tz": -540
    },
    "id": "CZR7ddAJ_mrz",
    "outputId": "1bdc7b7c-a2fc-40f6-c761-d98a81e6dbce"
   },
   "outputs": [
    {
     "data": {
      "text/plain": [
       "array([1., 1., 1., 1., 1.])"
      ]
     },
     "execution_count": 18,
     "metadata": {
      "tags": []
     },
     "output_type": "execute_result"
    }
   ],
   "source": [
    "y"
   ]
  },
  {
   "cell_type": "code",
   "execution_count": 14,
   "metadata": {
    "colab": {
     "base_uri": "https://localhost:8080/"
    },
    "executionInfo": {
     "elapsed": 6,
     "status": "ok",
     "timestamp": 1625041008262,
     "user": {
      "displayName": "‎고유정(자연과학대학 통계학과)",
      "photoUrl": "",
      "userId": "17559400864214048391"
     },
     "user_tz": -540
    },
    "id": "71088d5b-bc51-447f-8204-4e67794a42df",
    "outputId": "1fbaba0d-e9e6-4980-9757-588dec0b3584"
   },
   "outputs": [
    {
     "data": {
      "text/plain": [
       "array([[1., 1., 1., 1., 1.],\n",
       "       [2., 2., 2., 2., 2.],\n",
       "       [3., 3., 3., 3., 3.],\n",
       "       [4., 4., 4., 4., 4.]])"
      ]
     },
     "execution_count": 14,
     "metadata": {
      "tags": []
     },
     "output_type": "execute_result"
    }
   ],
   "source": [
    "xx + y"
   ]
  },
  {
   "cell_type": "code",
   "execution_count": 15,
   "metadata": {
    "colab": {
     "base_uri": "https://localhost:8080/"
    },
    "executionInfo": {
     "elapsed": 5,
     "status": "ok",
     "timestamp": 1625041008884,
     "user": {
      "displayName": "‎고유정(자연과학대학 통계학과)",
      "photoUrl": "",
      "userId": "17559400864214048391"
     },
     "user_tz": -540
    },
    "id": "819bacbb-eccc-4c4e-9307-3103ad9e09fd",
    "outputId": "50c9b64f-32ec-4798-dd91-657fc22060e5"
   },
   "outputs": [
    {
     "name": "stdout",
     "output_type": "stream",
     "text": [
      "[[0]\n",
      " [1]\n",
      " [2]\n",
      " [3]]\n",
      "(4, 1)\n"
     ]
    }
   ],
   "source": [
    "print(xx)\n",
    "print(xx.shape)"
   ]
  },
  {
   "cell_type": "code",
   "execution_count": 16,
   "metadata": {
    "colab": {
     "base_uri": "https://localhost:8080/"
    },
    "executionInfo": {
     "elapsed": 239,
     "status": "ok",
     "timestamp": 1625041023129,
     "user": {
      "displayName": "‎고유정(자연과학대학 통계학과)",
      "photoUrl": "",
      "userId": "17559400864214048391"
     },
     "user_tz": -540
    },
    "id": "2aac63ee-735f-484a-a2cd-e480a7f3e24c",
    "outputId": "772cda29-2dab-45f5-c5fc-906859468b86"
   },
   "outputs": [
    {
     "name": "stdout",
     "output_type": "stream",
     "text": [
      "[1. 1. 1. 1. 1.]\n",
      "(5,)\n"
     ]
    }
   ],
   "source": [
    "print(y)\n",
    "print(y.shape)"
   ]
  },
  {
   "cell_type": "code",
   "execution_count": 19,
   "metadata": {
    "colab": {
     "base_uri": "https://localhost:8080/"
    },
    "executionInfo": {
     "elapsed": 245,
     "status": "ok",
     "timestamp": 1625042103564,
     "user": {
      "displayName": "‎고유정(자연과학대학 통계학과)",
      "photoUrl": "",
      "userId": "17559400864214048391"
     },
     "user_tz": -540
    },
    "id": "f5e9fac7-cec2-4b4e-aadc-af6123fdbf46",
    "outputId": "a565e778-105c-4a69-88c8-c520e991dace"
   },
   "outputs": [
    {
     "name": "stdout",
     "output_type": "stream",
     "text": [
      "[[1. 1. 1. 1. 1.]\n",
      " [2. 2. 2. 2. 2.]\n",
      " [3. 3. 3. 3. 3.]\n",
      " [4. 4. 4. 4. 4.]]\n",
      "(4, 5)\n"
     ]
    }
   ],
   "source": [
    "print(xx + y)\n",
    "print((xx+y).shape)"
   ]
  },
  {
   "cell_type": "code",
   "execution_count": 20,
   "metadata": {
    "colab": {
     "base_uri": "https://localhost:8080/"
    },
    "executionInfo": {
     "elapsed": 3,
     "status": "ok",
     "timestamp": 1625042104362,
     "user": {
      "displayName": "‎고유정(자연과학대학 통계학과)",
      "photoUrl": "",
      "userId": "17559400864214048391"
     },
     "user_tz": -540
    },
    "id": "bcf30464-3029-491b-9ef3-4c1385ed96be",
    "outputId": "7ac0f558-e7de-4e37-9047-c13334830731"
   },
   "outputs": [
    {
     "data": {
      "text/plain": [
       "array([[0, 0, 0, 0, 0],\n",
       "       [1, 1, 1, 1, 1],\n",
       "       [2, 2, 2, 2, 2],\n",
       "       [3, 3, 3, 3, 3]])"
      ]
     },
     "execution_count": 20,
     "metadata": {
      "tags": []
     },
     "output_type": "execute_result"
    }
   ],
   "source": [
    "x1 = np.concatenate([xx, xx, xx, xx, xx], axis=1) # xx를 열 기준으로 5번 concat\n",
    "x1"
   ]
  },
  {
   "cell_type": "code",
   "execution_count": 21,
   "metadata": {
    "colab": {
     "base_uri": "https://localhost:8080/"
    },
    "executionInfo": {
     "elapsed": 2,
     "status": "ok",
     "timestamp": 1625042105310,
     "user": {
      "displayName": "‎고유정(자연과학대학 통계학과)",
      "photoUrl": "",
      "userId": "17559400864214048391"
     },
     "user_tz": -540
    },
    "id": "295d6137-8baa-42e1-833e-e182a6ef4e53",
    "outputId": "c24b2363-e5ef-4b7e-ad27-1dcfc139ff2a"
   },
   "outputs": [
    {
     "data": {
      "text/plain": [
       "array([[1., 1., 1., 1., 1.],\n",
       "       [1., 1., 1., 1., 1.],\n",
       "       [1., 1., 1., 1., 1.],\n",
       "       [1., 1., 1., 1., 1.]])"
      ]
     },
     "execution_count": 21,
     "metadata": {
      "tags": []
     },
     "output_type": "execute_result"
    }
   ],
   "source": [
    "yy = y.reshape(1,5)\n",
    "y1 = np.concatenate([yy, yy, yy, yy], axis=0) # y를 행 기준으로 4번 concat\n",
    "y1"
   ]
  },
  {
   "cell_type": "code",
   "execution_count": 22,
   "metadata": {
    "colab": {
     "base_uri": "https://localhost:8080/"
    },
    "executionInfo": {
     "elapsed": 2,
     "status": "ok",
     "timestamp": 1625042106228,
     "user": {
      "displayName": "‎고유정(자연과학대학 통계학과)",
      "photoUrl": "",
      "userId": "17559400864214048391"
     },
     "user_tz": -540
    },
    "id": "0ff23cc4-21c5-44d5-ac33-cf9534229bce",
    "outputId": "9b3aac00-08ac-403d-a297-ca03d5cc6aca"
   },
   "outputs": [
    {
     "data": {
      "text/plain": [
       "array([[1., 1., 1., 1., 1.],\n",
       "       [2., 2., 2., 2., 2.],\n",
       "       [3., 3., 3., 3., 3.],\n",
       "       [4., 4., 4., 4., 4.]])"
      ]
     },
     "execution_count": 22,
     "metadata": {
      "tags": []
     },
     "output_type": "execute_result"
    }
   ],
   "source": [
    "x1 + y1 # = xx + y"
   ]
  },
  {
   "cell_type": "markdown",
   "metadata": {
    "id": "65f35266-7fee-40ed-b0e6-c74e7f8e4ae6"
   },
   "source": [
    "## 1-2. 2D Tensors"
   ]
  },
  {
   "cell_type": "markdown",
   "metadata": {
    "id": "3c807fa2-f2a8-4ebc-a692-8213e34e06a1"
   },
   "source": [
    "### 1-2-1. Types and Shape"
   ]
  },
  {
   "cell_type": "markdown",
   "metadata": {
    "id": "6add6d95-2a06-45c1-8de0-d2bde24eff73"
   },
   "source": [
    "Try to convert the following Pandas Dataframe  to a tensor\n"
   ]
  },
  {
   "cell_type": "code",
   "execution_count": 23,
   "metadata": {
    "executionInfo": {
     "elapsed": 277,
     "status": "ok",
     "timestamp": 1625042108186,
     "user": {
      "displayName": "‎고유정(자연과학대학 통계학과)",
      "photoUrl": "",
      "userId": "17559400864214048391"
     },
     "user_tz": -540
    },
    "id": "dd0ef2b9-91cb-46f9-88e6-2ce4b30ac6cd"
   },
   "outputs": [],
   "source": [
    "# Practice: try to convert Pandas Series to tensor\n",
    "\n",
    "df = pd.DataFrame({'A':[11, 33, 22],'B':[3, 3, 2]})"
   ]
  },
  {
   "cell_type": "code",
   "execution_count": 24,
   "metadata": {
    "colab": {
     "base_uri": "https://localhost:8080/"
    },
    "executionInfo": {
     "elapsed": 388,
     "status": "ok",
     "timestamp": 1625042108905,
     "user": {
      "displayName": "‎고유정(자연과학대학 통계학과)",
      "photoUrl": "",
      "userId": "17559400864214048391"
     },
     "user_tz": -540
    },
    "id": "79f40924-53ae-4644-ada0-747e28ddb58a",
    "outputId": "10de9364-9444-43e8-e199-28d1d83b287f"
   },
   "outputs": [
    {
     "name": "stdout",
     "output_type": "stream",
     "text": [
      "numpy to tensor :  tensor([[11,  3],\n",
      "        [33,  3],\n",
      "        [22,  2]])\n",
      "dtype :  torch.int64\n"
     ]
    }
   ],
   "source": [
    "answer = torch.from_numpy(df.values)\n",
    "print('numpy to tensor : ', answer)\n",
    "print('dtype : ', answer.dtype)"
   ]
  },
  {
   "cell_type": "markdown",
   "metadata": {
    "id": "eaa05d5b-490f-4168-afcd-7d08119e2e2d"
   },
   "source": [
    "### 1-2-2. Indexing and Slicing"
   ]
  },
  {
   "cell_type": "markdown",
   "metadata": {
    "id": "a8fb2390-1a48-4409-8e58-3fd26116ae04"
   },
   "source": [
    "Try to change the values on the second column and the last two rows to 0. Basically, change the values on <code>tensor_ques[1][1]</code> and <code>tensor_ques[2][1]</code> to 0.\n"
   ]
  },
  {
   "cell_type": "code",
   "execution_count": 25,
   "metadata": {
    "colab": {
     "base_uri": "https://localhost:8080/"
    },
    "executionInfo": {
     "elapsed": 266,
     "status": "ok",
     "timestamp": 1625042110831,
     "user": {
      "displayName": "‎고유정(자연과학대학 통계학과)",
      "photoUrl": "",
      "userId": "17559400864214048391"
     },
     "user_tz": -540
    },
    "id": "5ced9da8-f203-4f8f-9b86-d83f962e5bd7",
    "outputId": "459c6d7c-93a7-4858-db26-40eebc0232b5"
   },
   "outputs": [
    {
     "data": {
      "text/plain": [
       "tensor([[11, 12, 13],\n",
       "        [21, 22, 23],\n",
       "        [31, 32, 33]])"
      ]
     },
     "execution_count": 25,
     "metadata": {
      "tags": []
     },
     "output_type": "execute_result"
    }
   ],
   "source": [
    "# Practice: Use slice and index to change the values on the matrix tensor_ques.\n",
    "\n",
    "tensor_ques = torch.tensor([[11, 12, 13], [21, 22, 23], [31, 32, 33]])\n",
    "tensor_ques"
   ]
  },
  {
   "cell_type": "code",
   "execution_count": 26,
   "metadata": {
    "colab": {
     "base_uri": "https://localhost:8080/"
    },
    "executionInfo": {
     "elapsed": 2,
     "status": "ok",
     "timestamp": 1625042111464,
     "user": {
      "displayName": "‎고유정(자연과학대학 통계학과)",
      "photoUrl": "",
      "userId": "17559400864214048391"
     },
     "user_tz": -540
    },
    "id": "6e172476-bd12-4064-8ec9-1f928e3f47ff",
    "outputId": "03534f13-acb8-4019-ced1-e5b89400dcec"
   },
   "outputs": [
    {
     "data": {
      "text/plain": [
       "tensor([22, 32])"
      ]
     },
     "execution_count": 26,
     "metadata": {
      "tags": []
     },
     "output_type": "execute_result"
    }
   ],
   "source": [
    "# select the values on the second colum and the last two rows to 0\n",
    "tensor_ques[1:3,1]"
   ]
  },
  {
   "cell_type": "code",
   "execution_count": 27,
   "metadata": {
    "colab": {
     "base_uri": "https://localhost:8080/"
    },
    "executionInfo": {
     "elapsed": 243,
     "status": "ok",
     "timestamp": 1625042115370,
     "user": {
      "displayName": "‎고유정(자연과학대학 통계학과)",
      "photoUrl": "",
      "userId": "17559400864214048391"
     },
     "user_tz": -540
    },
    "id": "d89a2fdb-1f58-4cf2-99ff-fc03078cfaff",
    "outputId": "562e4525-09dd-4083-c20c-a7997a0ee1f4"
   },
   "outputs": [
    {
     "name": "stdout",
     "output_type": "stream",
     "text": [
      "Results :  tensor([[11, 12, 13],\n",
      "        [21,  0, 23],\n",
      "        [31,  0, 33]])\n"
     ]
    }
   ],
   "source": [
    "tensor_ques[1:3,1] = 0\n",
    "print('Results : ', tensor_ques)"
   ]
  },
  {
   "cell_type": "markdown",
   "metadata": {
    "id": "f3a991ac-e3e6-497f-a23b-2c502d283acb"
   },
   "source": [
    "### 1-2-3. Tensor Operations"
   ]
  },
  {
   "cell_type": "markdown",
   "metadata": {
    "id": "1cdda418-dd16-45f5-9416-d338e6c4daa1"
   },
   "source": [
    "Try to create your own two tensors (<code>X</code> and <code>Y</code>) with different sizes, and multiply them.\n"
   ]
  },
  {
   "cell_type": "code",
   "execution_count": 28,
   "metadata": {
    "colab": {
     "base_uri": "https://localhost:8080/"
    },
    "executionInfo": {
     "elapsed": 246,
     "status": "ok",
     "timestamp": 1625042117155,
     "user": {
      "displayName": "‎고유정(자연과학대학 통계학과)",
      "photoUrl": "",
      "userId": "17559400864214048391"
     },
     "user_tz": -540
    },
    "id": "f463c9a3-93b3-4fac-8043-a4cdca681c57",
    "outputId": "06f6d93e-391b-412c-ca6a-5e275cdba03e"
   },
   "outputs": [
    {
     "name": "stdout",
     "output_type": "stream",
     "text": [
      "The Result of A * B :  tensor([[ 1,  2,  3,  4],\n",
      "        [ 2,  5,  8, 11]])\n"
     ]
    }
   ],
   "source": [
    "# Practice: Calculate the product of two tensors (X and Y) with different sizes \n",
    "\n",
    "# Type your code here\n",
    "X = torch.tensor([[0, 1], [1, 2]])\n",
    "Y = torch.tensor([[0, 1, 2, 3], [1, 2, 3, 4]])\n",
    "\n",
    "X_times_Y = torch.mm(X, Y)\n",
    "print('The Result of A * B : ', X_times_Y)"
   ]
  },
  {
   "cell_type": "code",
   "execution_count": 29,
   "metadata": {
    "colab": {
     "base_uri": "https://localhost:8080/"
    },
    "executionInfo": {
     "elapsed": 254,
     "status": "ok",
     "timestamp": 1625042118795,
     "user": {
      "displayName": "‎고유정(자연과학대학 통계학과)",
      "photoUrl": "",
      "userId": "17559400864214048391"
     },
     "user_tz": -540
    },
    "id": "495991b2-f125-43d4-a5dc-44cfb90b19e8",
    "outputId": "50417c8f-c6b9-48e9-8e63-213a4196e086"
   },
   "outputs": [
    {
     "name": "stdout",
     "output_type": "stream",
     "text": [
      "size of X :  torch.Size([2, 2])\n",
      "size of Y :  torch.Size([2, 4])\n",
      "X와 Y의 shape이 동일한가요? : 아니요\n",
      "shape이 다른 tensor는 matrix multiplication으로 계산하세요.\n"
     ]
    }
   ],
   "source": [
    "print('size of X : ', X.size())\n",
    "print('size of Y : ', Y.size())\n",
    "\n",
    "if X.shape == Y.shape:\n",
    "    print('X와 Y의 shape이 동일한가요? : {}'.format('네'))\n",
    "else:\n",
    "    print('X와 Y의 shape이 동일한가요? : {}'.format('아니요'))\n",
    "    print('shape이 다른 tensor는 matrix multiplication으로 계산하세요.')"
   ]
  },
  {
   "cell_type": "markdown",
   "metadata": {
    "id": "be603557-1dab-4292-8a10-497c921738a0"
   },
   "source": [
    "## 2. Derivatives"
   ]
  },
  {
   "cell_type": "markdown",
   "metadata": {
    "id": "98a685a1-fbe0-4f3e-89df-157f956688ec"
   },
   "source": [
    "### 2-1. Derivatives"
   ]
  },
  {
   "cell_type": "markdown",
   "metadata": {
    "id": "ef9e7bd6-d773-4a53-87b1-85eeb0202416"
   },
   "source": [
    "Determine the derivative of $ y = 2x^3+x $ at $x=1$\n"
   ]
  },
  {
   "cell_type": "code",
   "execution_count": 30,
   "metadata": {
    "colab": {
     "base_uri": "https://localhost:8080/"
    },
    "executionInfo": {
     "elapsed": 2,
     "status": "ok",
     "timestamp": 1625042120117,
     "user": {
      "displayName": "‎고유정(자연과학대학 통계학과)",
      "photoUrl": "",
      "userId": "17559400864214048391"
     },
     "user_tz": -540
    },
    "id": "843654e8-69bd-4598-860d-3d145acbd355",
    "outputId": "d8818057-5995-4b9c-cbf8-426d9007e933"
   },
   "outputs": [
    {
     "name": "stdout",
     "output_type": "stream",
     "text": [
      "The derivative at x = 1: tensor(7.)\n"
     ]
    }
   ],
   "source": [
    "# Practice: Calculate the derivative of y = 2x^3 + x at x = 1\n",
    "\n",
    "# Type your code here\n",
    "\n",
    "x = torch.tensor(1., requires_grad=True)\n",
    "y = 2 * x ** 3 + x\n",
    "\n",
    "y.backward() # y에 backward  y.backwar(x) 안되낭, 두번 계산할 때는 backward 초기화,,,\n",
    "print('The derivative at x = 1:', x.grad) # gradient는 x에 저장됨  "
   ]
  },
  {
   "cell_type": "markdown",
   "metadata": {
    "id": "d6b66c33-0eb0-4ca4-a5ff-b8619d1821fe"
   },
   "source": [
    "$ \\frac{dy(x)}{dx} = 6x^{2} + 1$  "
   ]
  },
  {
   "cell_type": "markdown",
   "metadata": {
    "id": "ec93b14e-5828-4edd-9f33-a0aebb4aaaab"
   },
   "source": [
    "$ \\frac{dy(x=1)}{dx} = 6*1^{2} + 1$"
   ]
  },
  {
   "cell_type": "code",
   "execution_count": 31,
   "metadata": {
    "colab": {
     "base_uri": "https://localhost:8080/"
    },
    "executionInfo": {
     "elapsed": 274,
     "status": "ok",
     "timestamp": 1625042122322,
     "user": {
      "displayName": "‎고유정(자연과학대학 통계학과)",
      "photoUrl": "",
      "userId": "17559400864214048391"
     },
     "user_tz": -540
    },
    "id": "46c41efc-6c57-413c-8724-616b97c9d9c4",
    "outputId": "3bcaac46-3898-4289-cbb1-47b0317c9621"
   },
   "outputs": [
    {
     "name": "stdout",
     "output_type": "stream",
     "text": [
      "data: tensor(1.)\n",
      "grad_fn: None\n",
      "grad: tensor(7.)\n",
      "is_leaf: True\n",
      "requires_grad: True\n"
     ]
    }
   ],
   "source": [
    "print('data:',x.data)\n",
    "print('grad_fn:',x.grad_fn)\n",
    "print('grad:',x.grad)\n",
    "print(\"is_leaf:\",x.is_leaf)\n",
    "print(\"requires_grad:\",x.requires_grad)"
   ]
  },
  {
   "cell_type": "code",
   "execution_count": 32,
   "metadata": {
    "colab": {
     "base_uri": "https://localhost:8080/"
    },
    "executionInfo": {
     "elapsed": 256,
     "status": "ok",
     "timestamp": 1625042150699,
     "user": {
      "displayName": "‎고유정(자연과학대학 통계학과)",
      "photoUrl": "",
      "userId": "17559400864214048391"
     },
     "user_tz": -540
    },
    "id": "ee812dea-51a9-40fd-97c3-1359702de1f3",
    "outputId": "fc653a3f-dac9-472c-934c-908297fada7e"
   },
   "outputs": [
    {
     "name": "stdout",
     "output_type": "stream",
     "text": [
      "data: tensor(3.)\n",
      "grad_fn: <AddBackward0 object at 0x7f854d8a5910>\n",
      "grad: None\n",
      "is_leaf: False\n",
      "requires_grad: True\n"
     ]
    },
    {
     "name": "stderr",
     "output_type": "stream",
     "text": [
      "/usr/local/lib/python3.7/dist-packages/ipykernel_launcher.py:3: UserWarning: The .grad attribute of a Tensor that is not a leaf Tensor is being accessed. Its .grad attribute won't be populated during autograd.backward(). If you indeed want the gradient for a non-leaf Tensor, use .retain_grad() on the non-leaf Tensor. If you access the non-leaf Tensor by mistake, make sure you access the leaf Tensor instead. See github.com/pytorch/pytorch/pull/30531 for more information.\n",
      "  This is separate from the ipykernel package so we can avoid doing imports until\n"
     ]
    }
   ],
   "source": [
    "print('data:',y.data)\n",
    "print('grad_fn:',y.grad_fn)\n",
    "print('grad:',y.grad)\n",
    "print(\"is_leaf:\",y.is_leaf)\n",
    "print(\"requires_grad:\",y.requires_grad)"
   ]
  },
  {
   "cell_type": "markdown",
   "metadata": {
    "id": "8ab8973c-f15e-4fb3-a2dd-7367f6a77b43"
   },
   "source": [
    "### 2-2. cf) is.leaf"
   ]
  },
  {
   "cell_type": "markdown",
   "metadata": {
    "id": "3a913dd8-3b4f-475e-96e5-3ca2b14a2545"
   },
   "source": [
    "[파이토치 공식문서 참조](https://pytorch.org/docs/stable/generated/torch.Tensor.is_leaf.html)"
   ]
  },
  {
   "cell_type": "markdown",
   "metadata": {
    "id": "5645e7dd-d04e-472e-a461-e70a35c605bf"
   },
   "source": [
    "leaf : 제일 처음 생성된 값인지 (최하단 변수인지)"
   ]
  },
  {
   "cell_type": "markdown",
   "metadata": {
    "id": "04f118ee-2826-4920-8f6e-ffcfb3a5ddc3"
   },
   "source": [
    "* requires_grad=False 면 무조건 leaf"
   ]
  },
  {
   "cell_type": "code",
   "execution_count": null,
   "metadata": {
    "id": "b15bc138-dfb1-45a1-afe0-c0207162f9ca",
    "outputId": "a9f593f9-447a-4b65-a285-2d00bbf07cc9"
   },
   "outputs": [
    {
     "data": {
      "text/plain": [
       "True"
      ]
     },
     "execution_count": 82,
     "metadata": {
      "tags": []
     },
     "output_type": "execute_result"
    }
   ],
   "source": [
    "a = torch.tensor([3.])\n",
    "a.is_leaf"
   ]
  },
  {
   "cell_type": "code",
   "execution_count": null,
   "metadata": {
    "id": "a9f9267c-0400-4d4c-a6da-8212b8dcb3d7",
    "outputId": "5867114f-2c80-4135-cfa9-82a61da6da46"
   },
   "outputs": [
    {
     "data": {
      "text/plain": [
       "True"
      ]
     },
     "execution_count": 85,
     "metadata": {
      "tags": []
     },
     "output_type": "execute_result"
    }
   ],
   "source": [
    "a[0] = 1.\n",
    "a.is_leaf # tensor 값을 변경하는 건 leaf와 관계없음"
   ]
  },
  {
   "cell_type": "code",
   "execution_count": null,
   "metadata": {
    "colab": {
     "base_uri": "https://localhost:8080/"
    },
    "executionInfo": {
     "elapsed": 335,
     "status": "ok",
     "timestamp": 1624975977270,
     "user": {
      "displayName": "‎이혜린(자연과학대학 통계학과)",
      "photoUrl": "",
      "userId": "17465505332261896018"
     },
     "user_tz": -540
    },
    "id": "1jyF3d1FHWKr",
    "outputId": "47c8beb4-f1f1-4bc9-eedc-d9dd73aa55dd"
   },
   "outputs": [
    {
     "data": {
      "text/plain": [
       "True"
      ]
     },
     "execution_count": 5,
     "metadata": {
      "tags": []
     },
     "output_type": "execute_result"
    }
   ],
   "source": [
    "a1 = torch.tensor(3.).cuda() # 무조건 leaf\n",
    "a1.is_leaf"
   ]
  },
  {
   "cell_type": "markdown",
   "metadata": {
    "id": "ddec3b8d-d361-44e4-ab01-1fc00fa8357e"
   },
   "source": [
    "* requires_grad=True 후 아무 operation도 없을때만 leaf"
   ]
  },
  {
   "cell_type": "code",
   "execution_count": null,
   "metadata": {
    "id": "c4c56115-3cfa-4a91-b943-aaf4ab6ec885",
    "outputId": "7c4ea134-b329-40ce-93b5-de2091fa9181"
   },
   "outputs": [
    {
     "data": {
      "text/plain": [
       "True"
      ]
     },
     "execution_count": 86,
     "metadata": {
      "tags": []
     },
     "output_type": "execute_result"
    }
   ],
   "source": [
    "b = torch.tensor(3., requires_grad=True)\n",
    "b.is_leaf"
   ]
  },
  {
   "cell_type": "code",
   "execution_count": null,
   "metadata": {
    "colab": {
     "base_uri": "https://localhost:8080/"
    },
    "executionInfo": {
     "elapsed": 6718,
     "status": "ok",
     "timestamp": 1624975774632,
     "user": {
      "displayName": "‎이혜린(자연과학대학 통계학과)",
      "photoUrl": "",
      "userId": "17465505332261896018"
     },
     "user_tz": -540
    },
    "id": "483e2eea-31b6-4034-b5bc-7e70490ae13f",
    "outputId": "6074bc6b-a6bf-4c84-8358-11627543e9a4"
   },
   "outputs": [
    {
     "data": {
      "text/plain": [
       "False"
      ]
     },
     "execution_count": 3,
     "metadata": {
      "tags": []
     },
     "output_type": "execute_result"
    }
   ],
   "source": [
    "c = torch.tensor(3., requires_grad=True).cuda() # grad 선언 후 cuda로 옮겨갔기 때문에 leaf가 아니다.\n",
    "c.is_leaf"
   ]
  },
  {
   "cell_type": "code",
   "execution_count": null,
   "metadata": {
    "colab": {
     "base_uri": "https://localhost:8080/"
    },
    "executionInfo": {
     "elapsed": 391,
     "status": "ok",
     "timestamp": 1624975839136,
     "user": {
      "displayName": "‎이혜린(자연과학대학 통계학과)",
      "photoUrl": "",
      "userId": "17465505332261896018"
     },
     "user_tz": -540
    },
    "id": "8jN9PCsOGpGk",
    "outputId": "4f9c5b93-f613-4f7e-c822-cb02ac94c3f4"
   },
   "outputs": [
    {
     "data": {
      "text/plain": [
       "False"
      ]
     },
     "execution_count": 4,
     "metadata": {
      "tags": []
     },
     "output_type": "execute_result"
    }
   ],
   "source": [
    "d = torch.tensor(3., requires_grad=True) + 2. # grad 선언 후 연산이 진행됐기 때문에 leaf가 아니다.\n",
    "d.is_leaf"
   ]
  },
  {
   "cell_type": "markdown",
   "metadata": {
    "id": "45705468-e6f8-46ea-bceb-4aa761216c5a"
   },
   "source": [
    "* 응용"
   ]
  },
  {
   "cell_type": "code",
   "execution_count": null,
   "metadata": {
    "colab": {
     "base_uri": "https://localhost:8080/"
    },
    "executionInfo": {
     "elapsed": 259,
     "status": "ok",
     "timestamp": 1624976044803,
     "user": {
      "displayName": "‎이혜린(자연과학대학 통계학과)",
      "photoUrl": "",
      "userId": "17465505332261896018"
     },
     "user_tz": -540
    },
    "id": "BOESaDpcG5Eu",
    "outputId": "233fe855-e956-43ab-8b1b-956be8284582"
   },
   "outputs": [
    {
     "data": {
      "text/plain": [
       "True"
      ]
     },
     "execution_count": 7,
     "metadata": {
      "tags": []
     },
     "output_type": "execute_result"
    }
   ],
   "source": [
    "e = torch.tensor(3.).cuda().requires_grad_() # grad 선언 후 연산이 진행되지 않았기에 leaf\n",
    "e.is_leaf"
   ]
  },
  {
   "cell_type": "code",
   "execution_count": null,
   "metadata": {
    "colab": {
     "base_uri": "https://localhost:8080/"
    },
    "executionInfo": {
     "elapsed": 3,
     "status": "ok",
     "timestamp": 1624976072236,
     "user": {
      "displayName": "‎이혜린(자연과학대학 통계학과)",
      "photoUrl": "",
      "userId": "17465505332261896018"
     },
     "user_tz": -540
    },
    "id": "p8aUjogHHtSo",
    "outputId": "624d5823-2c27-4585-de2d-680b39160823"
   },
   "outputs": [
    {
     "data": {
      "text/plain": [
       "True"
      ]
     },
     "execution_count": 8,
     "metadata": {
      "tags": []
     },
     "output_type": "execute_result"
    }
   ],
   "source": [
    "f = torch.tensor(3., requires_grad=True, device=\"cuda\") # grad 선언 후 연산이 진행되지 않았기에 leaf\n",
    "f.is_leaf"
   ]
  },
  {
   "cell_type": "markdown",
   "metadata": {
    "id": "XkS_XbrpH4Og"
   },
   "source": [
    "### 2-3. cf) Custom Autograd Function  \n",
    "`torch.autograd.Function` 클래스를 상속받음으로써 커스터마이징할 수 있음"
   ]
  },
  {
   "cell_type": "code",
   "execution_count": null,
   "metadata": {
    "id": "P8wGNc2JIKJH"
   },
   "outputs": [],
   "source": [
    "class SQ(torch.autograd.Function):\n",
    "\n",
    "    def forward(ctx, i):\n",
    "        \"\"\"\n",
    "        In the forward pass we receive a Tensor containing the input and return\n",
    "        a Tensor containing the output. ctx is a context object that can be used\n",
    "        to stash information for backward computation. You can cache arbitrary\n",
    "        objects for use in the backward pass using the ctx.save_for_backward method.\n",
    "        \"\"\"\n",
    "        result=i**3 # output 식 적어줘야함\n",
    "        ctx.save_for_backward(i) # input 값 저장\n",
    "        return result\n",
    "\n",
    "    def backward(ctx, grad_output):\n",
    "        \"\"\"\n",
    "        In the backward pass we receive a Tensor containing the gradient of the loss\n",
    "        with respect to the output, and we need to compute the gradient of the loss\n",
    "        with respect to the input.\n",
    "        \"\"\"\n",
    "        i, = ctx.saved_tensors\n",
    "        grad_output = 3*i**2 # derivates 결과식 적어줘야함\n",
    "        return grad_output"
   ]
  },
  {
   "cell_type": "code",
   "execution_count": null,
   "metadata": {
    "colab": {
     "base_uri": "https://localhost:8080/"
    },
    "executionInfo": {
     "elapsed": 463,
     "status": "ok",
     "timestamp": 1624976532472,
     "user": {
      "displayName": "‎이혜린(자연과학대학 통계학과)",
      "photoUrl": "",
      "userId": "17465505332261896018"
     },
     "user_tz": -540
    },
    "id": "sHzwCFTuIRAc",
    "outputId": "b79c5977-e0da-4107-c298-63d24cdbe43b"
   },
   "outputs": [
    {
     "name": "stdout",
     "output_type": "stream",
     "text": [
      "y :  tensor(8., grad_fn=<SQBackward>)\n",
      "y.grad_fn :  <torch.autograd.function.SQBackward object at 0x7f4dbb9868c0>\n",
      "x.grad :  tensor(12.)\n"
     ]
    }
   ],
   "source": [
    "x=torch.tensor(2.0,requires_grad=True)\n",
    "sq=SQ.apply\n",
    "\n",
    "y=sq(x) # forward = gra\n",
    "print('y : ', y)\n",
    "print('y.grad_fn : ', y.grad_fn)\n",
    "y.backward()\n",
    "print('x.grad : ', x.grad)"
   ]
  },
  {
   "cell_type": "markdown",
   "metadata": {
    "id": "5CXadtPjJpxV"
   },
   "source": [
    "### 2-4. Partial Derivates"
   ]
  },
  {
   "cell_type": "markdown",
   "metadata": {
    "id": "fq6cGvIRKDys"
   },
   "source": [
    "#### 참고  \n",
    "* `requires_grads=True`인 tensor는 tensor를 바로 .numpy() 로 변환 불가능  \n",
    "* `.detach().numpy()` 로 변환 가능"
   ]
  },
  {
   "cell_type": "markdown",
   "metadata": {
    "id": "POlFfZzPLQ5L"
   },
   "source": [
    "Try to determine partial derivative  $u$ of the following function where $u=2$ and $v=1$: $ f=uv+(uv)^2$\n"
   ]
  },
  {
   "cell_type": "code",
   "execution_count": null,
   "metadata": {
    "colab": {
     "base_uri": "https://localhost:8080/"
    },
    "executionInfo": {
     "elapsed": 613,
     "status": "ok",
     "timestamp": 1624977065767,
     "user": {
      "displayName": "‎이혜린(자연과학대학 통계학과)",
      "photoUrl": "",
      "userId": "17465505332261896018"
     },
     "user_tz": -540
    },
    "id": "ewmFUXSjLSSy",
    "outputId": "3328c73b-fb3a-4493-df45-60760ed48e06"
   },
   "outputs": [
    {
     "name": "stdout",
     "output_type": "stream",
     "text": [
      "tensor(5.)\n"
     ]
    }
   ],
   "source": [
    "# Practice: Calculate the derivative of f = u * v + (u * v) ** 2 at u = 2, v = 1\n",
    "\n",
    "# Type the code here\n",
    "u = torch.tensor(2., requires_grad=True)\n",
    "v = torch.tensor(1., requires_grad=True)\n",
    "y = u*v + (u*v)**2\n",
    "\n",
    "y.backward()\n",
    "print(u.grad)"
   ]
  },
  {
   "cell_type": "markdown",
   "metadata": {
    "id": "GfrajkAqLlxA"
   },
   "source": [
    "$\\frac{{\\partial f(u,v)}}{\\partial {u}}=v+2uv^{2}$  \n",
    "$\\frac{{\\partial f(u=2,v=1)}}{\\partial {u}}=1+2*2*1^{2}$ "
   ]
  },
  {
   "cell_type": "markdown",
   "metadata": {
    "id": "WXYjxOoJRCAA"
   },
   "source": [
    "## 3-1. Simple Dataset"
   ]
  },
  {
   "cell_type": "code",
   "execution_count": null,
   "metadata": {
    "colab": {
     "base_uri": "https://localhost:8080/"
    },
    "executionInfo": {
     "elapsed": 3007,
     "status": "ok",
     "timestamp": 1624993046194,
     "user": {
      "displayName": "‎이혜린(자연과학대학 통계학과)",
      "photoUrl": "",
      "userId": "17465505332261896018"
     },
     "user_tz": -540
    },
    "id": "z4d_BnY_Iea5",
    "outputId": "ff61e12b-2efd-4459-9de7-b09e979ab4d9"
   },
   "outputs": [
    {
     "data": {
      "text/plain": [
       "<torch._C.Generator at 0x7f8880ed8f10>"
      ]
     },
     "execution_count": 23,
     "metadata": {
      "tags": []
     },
     "output_type": "execute_result"
    }
   ],
   "source": [
    "# These are the libraries will be used for this lab.\n",
    "\n",
    "import torch\n",
    "from torch.utils.data import Dataset\n",
    "torch.manual_seed(1)"
   ]
  },
  {
   "cell_type": "markdown",
   "metadata": {
    "id": "gyMoXEriJvnR"
   },
   "source": [
    "### 3-1-1. Simple dataset"
   ]
  },
  {
   "cell_type": "code",
   "execution_count": null,
   "metadata": {
    "id": "6sPGLb3dIhvP"
   },
   "outputs": [],
   "source": [
    "# Define class for dataset\n",
    "\n",
    "class toy_set(Dataset):\n",
    "    \n",
    "    # Constructor with defult values \n",
    "    def __init__(self, length = 100, transform = None):\n",
    "        self.len = length\n",
    "        self.x = 2 * torch.ones(length, 2)\n",
    "        self.y = torch.ones(length, 1)\n",
    "        self.transform = transform\n",
    "     \n",
    "    # Getter\n",
    "    def __getitem__(self, index): # indexing 내장함수\n",
    "        sample = self.x[index], self.y[index]\n",
    "        if self.transform:\n",
    "            sample = self.transform(sample)     \n",
    "        return sample\n",
    "    \n",
    "    # Get Length \n",
    "    def __len__(self): # 길이 내장함수\n",
    "        return self.len"
   ]
  },
  {
   "cell_type": "code",
   "execution_count": null,
   "metadata": {
    "colab": {
     "base_uri": "https://localhost:8080/"
    },
    "executionInfo": {
     "elapsed": 393,
     "status": "ok",
     "timestamp": 1624993085531,
     "user": {
      "displayName": "‎이혜린(자연과학대학 통계학과)",
      "photoUrl": "",
      "userId": "17465505332261896018"
     },
     "user_tz": -540
    },
    "id": "DS__6oCJIq8e",
    "outputId": "fd73c969-aefe-4c60-d2c3-095b03955362"
   },
   "outputs": [
    {
     "name": "stdout",
     "output_type": "stream",
     "text": [
      "Our toy_set object:  <__main__.toy_set object at 0x7f544f6ed550>\n",
      "Value on index 0 of our toy_set object:  (tensor([2., 2.]), tensor([1.]))\n",
      "Our toy_set length:  100\n"
     ]
    }
   ],
   "source": [
    "# Create Dataset Object. Find out the value on index 1. Find out the length of Dataset Object.\n",
    "\n",
    "our_dataset = toy_set()\n",
    "print(\"Our toy_set object: \", our_dataset)\n",
    "print(\"Value on index 0 of our toy_set object: \", our_dataset[0])\n",
    "print(\"Our toy_set length: \", len(our_dataset))"
   ]
  },
  {
   "cell_type": "markdown",
   "metadata": {
    "id": "xsoOovnfInxp"
   },
   "source": [
    "Try to create an <code>toy_set</code> object with length <b>50</b>. Print out the length of your object.\n"
   ]
  },
  {
   "cell_type": "code",
   "execution_count": null,
   "metadata": {
    "colab": {
     "base_uri": "https://localhost:8080/"
    },
    "executionInfo": {
     "elapsed": 423,
     "status": "ok",
     "timestamp": 1624993348338,
     "user": {
      "displayName": "‎이혜린(자연과학대학 통계학과)",
      "photoUrl": "",
      "userId": "17465505332261896018"
     },
     "user_tz": -540
    },
    "id": "Ebkf3IidJLBH",
    "outputId": "a679bbe5-5ac1-4c0b-f682-5b7a162590f6"
   },
   "outputs": [
    {
     "name": "stdout",
     "output_type": "stream",
     "text": [
      "50\n"
     ]
    }
   ],
   "source": [
    "answer = toy_set(length=50)\n",
    "print(len(answer))"
   ]
  },
  {
   "cell_type": "markdown",
   "metadata": {
    "id": "Nnpa7NvuJyev"
   },
   "source": [
    "### 3-1-2. Transforms"
   ]
  },
  {
   "cell_type": "code",
   "execution_count": null,
   "metadata": {
    "id": "eLZfZh7wKfyj"
   },
   "outputs": [],
   "source": [
    "# Practice: Construct your own my_add_mult transform. Apply my_add_mult on a new toy_set object. Print out the first three elements from the transformed dataset.\n",
    "\n",
    "# Type your code here."
   ]
  },
  {
   "cell_type": "code",
   "execution_count": null,
   "metadata": {
    "id": "U4_BBczlJ0eo"
   },
   "outputs": [],
   "source": [
    "class my_add_mult(object):\n",
    "    \n",
    "    # Constructor\n",
    "    def __init__(self, add = 1, mul = 2):\n",
    "        self.add = add\n",
    "        self.mul = mul\n",
    "    \n",
    "    # Executor\n",
    "    def __call__(self, sample):\n",
    "        x = sample[0]\n",
    "        y = sample[1]\n",
    "        x = x + self.add\n",
    "        y = y + self.add\n",
    "        x = x * self.mul\n",
    "        y = y * self.mul\n",
    "        sample = x, y\n",
    "        return sample"
   ]
  },
  {
   "cell_type": "code",
   "execution_count": null,
   "metadata": {
    "colab": {
     "base_uri": "https://localhost:8080/"
    },
    "executionInfo": {
     "elapsed": 643,
     "status": "ok",
     "timestamp": 1624993763978,
     "user": {
      "displayName": "‎이혜린(자연과학대학 통계학과)",
      "photoUrl": "",
      "userId": "17465505332261896018"
     },
     "user_tz": -540
    },
    "id": "cRiemQzqKA5y",
    "outputId": "2d835e20-269e-452b-c21d-3e8c3d43041f"
   },
   "outputs": [
    {
     "name": "stdout",
     "output_type": "stream",
     "text": [
      "Result of  0\n",
      "Original data - x : tensor([2., 2.]), y : tensor([1.])\n",
      "Transformed data - x : tensor([6., 6.]), y : tensor([4.])\n",
      "Result of  1\n",
      "Original data - x : tensor([2., 2.]), y : tensor([1.])\n",
      "Transformed data - x : tensor([6., 6.]), y : tensor([4.])\n",
      "Result of  2\n",
      "Original data - x : tensor([2., 2.]), y : tensor([1.])\n",
      "Transformed data - x : tensor([6., 6.]), y : tensor([4.])\n"
     ]
    }
   ],
   "source": [
    "data = toy_set()\n",
    "addmul = my_add_mult()\n",
    "tdata = toy_set(transform=addmul)\n",
    "\n",
    "for i in range(3):\n",
    "    x, y = data[i]\n",
    "    xt, yt = tdata[i]\n",
    "    print('Result of ',i)\n",
    "    print('Original data - x : {}, y : {}'.format(x,y))\n",
    "    print('Transformed data - x : {}, y : {}'.format(xt,yt))"
   ]
  },
  {
   "cell_type": "markdown",
   "metadata": {
    "id": "ZxpFiFsaLbJH"
   },
   "source": [
    "### 3-1-3. Compose"
   ]
  },
  {
   "cell_type": "code",
   "execution_count": null,
   "metadata": {
    "id": "gxEPxtSlLyLV"
   },
   "outputs": [],
   "source": [
    "from torchvision import transforms"
   ]
  },
  {
   "cell_type": "markdown",
   "metadata": {
    "id": "bWe3bB4RMEGR"
   },
   "source": [
    "Try to combine the <code>mult()</code> and <code>add_mult()</code> as <code>mult()</code> to be executed first. And apply this on a new <code>toy_set</code> dataset. Print out the first 3 elements in the transformed dataset.\n"
   ]
  },
  {
   "cell_type": "code",
   "execution_count": null,
   "metadata": {
    "id": "dM3-aP0nMUnF"
   },
   "outputs": [],
   "source": [
    "# Create tranform class add_mult\n",
    "\n",
    "class add_mult(object):\n",
    "    \n",
    "    # Constructor\n",
    "    def __init__(self, addx = 1, muly = 2):\n",
    "        self.addx = addx\n",
    "        self.muly = muly\n",
    "    \n",
    "    # Executor\n",
    "    def __call__(self, sample):\n",
    "        x = sample[0]\n",
    "        y = sample[1]\n",
    "        x = x + self.addx\n",
    "        y = y * self.muly\n",
    "        sample = x, y\n",
    "        return sample"
   ]
  },
  {
   "cell_type": "code",
   "execution_count": null,
   "metadata": {
    "id": "6hdmnbfLL5gn"
   },
   "outputs": [],
   "source": [
    "# Create tranform class mult\n",
    "\n",
    "class mult(object):\n",
    "    \n",
    "    # Constructor\n",
    "    def __init__(self, mult = 100):\n",
    "        self.mult = mult\n",
    "        \n",
    "    # Executor\n",
    "    def __call__(self, sample):\n",
    "        x = sample[0]\n",
    "        y = sample[1]\n",
    "        x = x * self.mult\n",
    "        y = y * self.mult\n",
    "        sample = x, y\n",
    "        return sample"
   ]
  },
  {
   "cell_type": "code",
   "execution_count": null,
   "metadata": {
    "colab": {
     "base_uri": "https://localhost:8080/"
    },
    "executionInfo": {
     "elapsed": 5,
     "status": "ok",
     "timestamp": 1624993994395,
     "user": {
      "displayName": "‎이혜린(자연과학대학 통계학과)",
      "photoUrl": "",
      "userId": "17465505332261896018"
     },
     "user_tz": -540
    },
    "id": "sRrOFwJJLn3V",
    "outputId": "41c57409-f46f-4d86-99a3-43d26670d43d"
   },
   "outputs": [
    {
     "name": "stdout",
     "output_type": "stream",
     "text": [
      "Result of  0\n",
      "Original data - x : tensor([2., 2.]), y : tensor([1.])\n",
      "Transformed data - x : tensor([300., 300.]), y : tensor([200.])\n",
      "Result of  1\n",
      "Original data - x : tensor([2., 2.]), y : tensor([1.])\n",
      "Transformed data - x : tensor([300., 300.]), y : tensor([200.])\n",
      "Result of  2\n",
      "Original data - x : tensor([2., 2.]), y : tensor([1.])\n",
      "Transformed data - x : tensor([300., 300.]), y : tensor([200.])\n"
     ]
    }
   ],
   "source": [
    "transform_list = transforms.Compose([add_mult(), mult()])\n",
    "compose_data = toy_set(transform=transform_list)\n",
    "data = toy_set()\n",
    "for i in range(3):\n",
    "    x, y = data[i]\n",
    "    xt, yt = compose_data[i]\n",
    "    print('Result of ',i)\n",
    "    print('Original data - x : {}, y : {}'.format(x,y))\n",
    "    print('Transformed data - x : {}, y : {}'.format(xt,yt))"
   ]
  },
  {
   "cell_type": "markdown",
   "metadata": {
    "id": "JAeM2xAsMV_s"
   },
   "source": [
    "## 3-2. Datasets and Transforms"
   ]
  },
  {
   "cell_type": "code",
   "execution_count": null,
   "metadata": {
    "colab": {
     "base_uri": "https://localhost:8080/"
    },
    "executionInfo": {
     "elapsed": 615,
     "status": "ok",
     "timestamp": 1625039041749,
     "user": {
      "displayName": "‎이혜린(자연과학대학 통계학과)",
      "photoUrl": "",
      "userId": "17465505332261896018"
     },
     "user_tz": -540
    },
    "id": "TkUBOCmtMdS8",
    "outputId": "e22521ef-e9ee-4448-8b1c-1b9dd147962f"
   },
   "outputs": [
    {
     "data": {
      "text/plain": [
       "<torch._C.Generator at 0x7f6ac4ca4d50>"
      ]
     },
     "execution_count": 9,
     "metadata": {
      "tags": []
     },
     "output_type": "execute_result"
    }
   ],
   "source": [
    "# These are the libraries will be used for this lab.\n",
    "\n",
    "import torch \n",
    "import matplotlib.pylab as plt\n",
    "import numpy as np\n",
    "from torch.utils.data import Dataset, DataLoader\n",
    "torch.manual_seed(0)"
   ]
  },
  {
   "cell_type": "code",
   "execution_count": null,
   "metadata": {
    "id": "R6vHzWmKMngC"
   },
   "outputs": [],
   "source": [
    "from matplotlib.pyplot import imshow\n",
    "import matplotlib.pylab as plt\n",
    "from PIL import Image\n",
    "import pandas as pd\n",
    "import os"
   ]
  },
  {
   "cell_type": "markdown",
   "metadata": {
    "id": "GJE6fNAvNfSM"
   },
   "source": [
    "### 3-2-1. 데이터 로드  \n",
    "MNIST 데이터셋"
   ]
  },
  {
   "cell_type": "code",
   "execution_count": null,
   "metadata": {
    "colab": {
     "base_uri": "https://localhost:8080/"
    },
    "executionInfo": {
     "elapsed": 2368,
     "status": "ok",
     "timestamp": 1625039070485,
     "user": {
      "displayName": "‎이혜린(자연과학대학 통계학과)",
      "photoUrl": "",
      "userId": "17465505332261896018"
     },
     "user_tz": -540
    },
    "id": "U_neJ62HMocd",
    "outputId": "cfe07e8e-9bad-4c22-f60a-1b7d4fece460"
   },
   "outputs": [
    {
     "name": "stdout",
     "output_type": "stream",
     "text": [
      "--2021-06-30 07:44:27--  https://cf-courses-data.s3.us.cloud-object-storage.appdomain.cloud/IBMDeveloperSkillsNetwork-DL0110EN-SkillsNetwork/labs/Week1/data/img.tar.gz\n",
      "Resolving cf-courses-data.s3.us.cloud-object-storage.appdomain.cloud (cf-courses-data.s3.us.cloud-object-storage.appdomain.cloud)... 169.45.118.108\n",
      "Connecting to cf-courses-data.s3.us.cloud-object-storage.appdomain.cloud (cf-courses-data.s3.us.cloud-object-storage.appdomain.cloud)|169.45.118.108|:443... connected.\n",
      "HTTP request sent, awaiting response... 200 OK\n",
      "Length: 50460 (49K) [application/x-tar]\n",
      "Saving to: ‘/resources/data/img.tar.gz’\n",
      "\n",
      "img.tar.gz          100%[===================>]  49.28K   168KB/s    in 0.3s    \n",
      "\n",
      "2021-06-30 07:44:29 (168 KB/s) - ‘/resources/data/img.tar.gz’ saved [50460/50460]\n",
      "\n"
     ]
    }
   ],
   "source": [
    "! wget https://cf-courses-data.s3.us.cloud-object-storage.appdomain.cloud/IBMDeveloperSkillsNetwork-DL0110EN-SkillsNetwork/labs/Week1/data/img.tar.gz -P /resources/data"
   ]
  },
  {
   "cell_type": "code",
   "execution_count": null,
   "metadata": {
    "id": "tkDbhBWrNr4g"
   },
   "outputs": [],
   "source": [
    "!tar -xf /resources/data/img.tar.gz "
   ]
  },
  {
   "cell_type": "code",
   "execution_count": null,
   "metadata": {
    "colab": {
     "base_uri": "https://localhost:8080/"
    },
    "executionInfo": {
     "elapsed": 2742,
     "status": "ok",
     "timestamp": 1625039074134,
     "user": {
      "displayName": "‎이혜린(자연과학대학 통계학과)",
      "photoUrl": "",
      "userId": "17465505332261896018"
     },
     "user_tz": -540
    },
    "id": "qi50mWmeNtJ5",
    "outputId": "0fdc529a-9c03-4a0d-f286-bfadfd16c5b9"
   },
   "outputs": [
    {
     "name": "stdout",
     "output_type": "stream",
     "text": [
      "--2021-06-30 07:44:30--  https://cf-courses-data.s3.us.cloud-object-storage.appdomain.cloud/IBMDeveloperSkillsNetwork-DL0110EN-SkillsNetwork/labs/Week1/data/index.csv\n",
      "Resolving cf-courses-data.s3.us.cloud-object-storage.appdomain.cloud (cf-courses-data.s3.us.cloud-object-storage.appdomain.cloud)... 169.45.118.108\n",
      "Connecting to cf-courses-data.s3.us.cloud-object-storage.appdomain.cloud (cf-courses-data.s3.us.cloud-object-storage.appdomain.cloud)|169.45.118.108|:443... connected.\n",
      "HTTP request sent, awaiting response... 200 OK\n",
      "Length: 1680905 (1.6M) [text/csv]\n",
      "Saving to: ‘index.csv’\n",
      "\n",
      "index.csv           100%[===================>]   1.60M  1.26MB/s    in 1.3s    \n",
      "\n",
      "2021-06-30 07:44:33 (1.26 MB/s) - ‘index.csv’ saved [1680905/1680905]\n",
      "\n"
     ]
    }
   ],
   "source": [
    "!wget https://cf-courses-data.s3.us.cloud-object-storage.appdomain.cloud/IBMDeveloperSkillsNetwork-DL0110EN-SkillsNetwork/labs/Week1/data/index.csv "
   ]
  },
  {
   "cell_type": "code",
   "execution_count": null,
   "metadata": {
    "id": "PDdg21AKNuF5"
   },
   "outputs": [],
   "source": [
    "# 텐서를 array로 변환 후 reshape해서 이미지로 보여주는 함수\n",
    "\n",
    "def show_data(data_sample, shape = (28, 28)): # shape default = (28,28)\n",
    "    plt.imshow(data_sample[0].numpy().reshape(shape), cmap='gray')\n",
    "    plt.title('y = ' + data_sample[1])"
   ]
  },
  {
   "cell_type": "code",
   "execution_count": null,
   "metadata": {
    "id": "G7yIGlMmNxAi"
   },
   "outputs": [],
   "source": [
    "# Read CSV file from the URL and print out the first five samples\n",
    "directory=\"\"\n",
    "csv_file ='index.csv'\n",
    "csv_path=os.path.join(directory,csv_file) # 문자열 여러개를 path로 연결해주는 함수"
   ]
  },
  {
   "cell_type": "code",
   "execution_count": null,
   "metadata": {
    "colab": {
     "base_uri": "https://localhost:8080/",
     "height": 204
    },
    "executionInfo": {
     "elapsed": 3,
     "status": "ok",
     "timestamp": 1625039077839,
     "user": {
      "displayName": "‎이혜린(자연과학대학 통계학과)",
      "photoUrl": "",
      "userId": "17465505332261896018"
     },
     "user_tz": -540
    },
    "id": "XDoJ_8JOOGSz",
    "outputId": "56e817e8-17fd-4d95-fa93-eefc926d5105"
   },
   "outputs": [
    {
     "data": {
      "text/html": [
       "<div>\n",
       "<style scoped>\n",
       "    .dataframe tbody tr th:only-of-type {\n",
       "        vertical-align: middle;\n",
       "    }\n",
       "\n",
       "    .dataframe tbody tr th {\n",
       "        vertical-align: top;\n",
       "    }\n",
       "\n",
       "    .dataframe thead th {\n",
       "        text-align: right;\n",
       "    }\n",
       "</style>\n",
       "<table border=\"1\" class=\"dataframe\">\n",
       "  <thead>\n",
       "    <tr style=\"text-align: right;\">\n",
       "      <th></th>\n",
       "      <th>category</th>\n",
       "      <th>image</th>\n",
       "    </tr>\n",
       "  </thead>\n",
       "  <tbody>\n",
       "    <tr>\n",
       "      <th>0</th>\n",
       "      <td>Ankle boot</td>\n",
       "      <td>img/fashion0.png</td>\n",
       "    </tr>\n",
       "    <tr>\n",
       "      <th>1</th>\n",
       "      <td>T-shirt</td>\n",
       "      <td>img/fashion1.png</td>\n",
       "    </tr>\n",
       "    <tr>\n",
       "      <th>2</th>\n",
       "      <td>T-shirt</td>\n",
       "      <td>img/fashion2.png</td>\n",
       "    </tr>\n",
       "    <tr>\n",
       "      <th>3</th>\n",
       "      <td>Dress</td>\n",
       "      <td>img/fashion3.png</td>\n",
       "    </tr>\n",
       "    <tr>\n",
       "      <th>4</th>\n",
       "      <td>T-shirt</td>\n",
       "      <td>img/fashion4.png</td>\n",
       "    </tr>\n",
       "  </tbody>\n",
       "</table>\n",
       "</div>"
      ],
      "text/plain": [
       "     category             image\n",
       "0  Ankle boot  img/fashion0.png\n",
       "1     T-shirt  img/fashion1.png\n",
       "2     T-shirt  img/fashion2.png\n",
       "3       Dress  img/fashion3.png\n",
       "4     T-shirt  img/fashion4.png"
      ]
     },
     "execution_count": 19,
     "metadata": {
      "tags": []
     },
     "output_type": "execute_result"
    }
   ],
   "source": [
    "data_name = pd.read_csv(csv_path)\n",
    "data_name.head() # image category와 image file name으로 구성된 데이터"
   ]
  },
  {
   "cell_type": "code",
   "execution_count": null,
   "metadata": {
    "id": "wGoKKyxbOQcC"
   },
   "outputs": [],
   "source": [
    "# Create your own dataset object\n",
    "\n",
    "class Dataset(Dataset):\n",
    "\n",
    "    # Constructor (변수 선언)\n",
    "    def __init__(self, csv_file, data_dir, transform=None):\n",
    "        \n",
    "        # Image directory\n",
    "        self.data_dir=data_dir\n",
    "        \n",
    "        # The transform is goint to be used on image\n",
    "        self.transform = transform\n",
    "        data_dircsv_file=os.path.join(self.data_dir,csv_file)\n",
    "        # Load the CSV file contians image info\n",
    "        self.data_name= pd.read_csv(data_dircsv_file)\n",
    "        \n",
    "        # Number of images in dataset\n",
    "        self.len=self.data_name.shape[0] \n",
    "    \n",
    "    # Get the length (객체의 길이를 반환해주는 내장함수)\n",
    "    def __len__(self):\n",
    "        return self.len\n",
    "    \n",
    "    # Getter (인덱싱 시 데이터를 반환해주는 내장함수)\n",
    "    def __getitem__(self, idx): \n",
    "        \n",
    "        # Image file path\n",
    "        img_name=os.path.join(self.data_dir,self.data_name.iloc[idx, 1])\n",
    "        # Open image file\n",
    "        image = Image.open(img_name)\n",
    "        \n",
    "        # The class label for the image\n",
    "        y = self.data_name.iloc[idx, 0]\n",
    "        \n",
    "        # If there is any transform method, apply it onto the image\n",
    "        if self.transform:\n",
    "            image = self.transform(image)\n",
    "\n",
    "        return image, y"
   ]
  },
  {
   "cell_type": "code",
   "execution_count": null,
   "metadata": {
    "id": "3ckiALHkOnWJ"
   },
   "outputs": [],
   "source": [
    "dataset = Dataset(csv_file=csv_file, data_dir=directory)"
   ]
  },
  {
   "cell_type": "code",
   "execution_count": null,
   "metadata": {
    "colab": {
     "base_uri": "https://localhost:8080/",
     "height": 281
    },
    "executionInfo": {
     "elapsed": 4,
     "status": "ok",
     "timestamp": 1625039081691,
     "user": {
      "displayName": "‎이혜린(자연과학대학 통계학과)",
      "photoUrl": "",
      "userId": "17465505332261896018"
     },
     "user_tz": -540
    },
    "id": "LTn-VpS8OqBF",
    "outputId": "8028892b-c53c-4e4b-b119-ed6e46a56a50"
   },
   "outputs": [
    {
     "data": {
      "image/png": "[encoded data removed]",
      "text/plain": [
       "<Figure size 432x288 with 1 Axes>"
      ]
     },
     "metadata": {
      "needs_background": "light",
      "tags": []
     },
     "output_type": "display_data"
    }
   ],
   "source": [
    "image=dataset[0][0]\n",
    "y=dataset[0][1]\n",
    "\n",
    "plt.imshow(image, cmap='gray')\n",
    "plt.title(y)\n",
    "plt.show()"
   ]
  },
  {
   "cell_type": "markdown",
   "metadata": {
    "id": "FE6imQaKO4Uu"
   },
   "source": [
    "### 3-2-2. Transformation"
   ]
  },
  {
   "cell_type": "code",
   "execution_count": null,
   "metadata": {
    "id": "tT4URAV_O7du"
   },
   "outputs": [],
   "source": [
    "import torchvision.transforms as transforms"
   ]
  },
  {
   "cell_type": "markdown",
   "metadata": {
    "id": "TYBYwBJvPAGG"
   },
   "source": [
    "`transforms.Compose([])` : transformation 연결  \n",
    "`transforms.CenterCrop(int)`  \n",
    "`transforms.ToTensor()`  \n",
    "`transforms.RandomVerticalFlip(p=num)`"
   ]
  },
  {
   "cell_type": "markdown",
   "metadata": {
    "id": "Ak3m54CmPW4X"
   },
   "source": [
    "Try to use the <code>RandomVerticalFlip</code> (vertically flip the image) with horizontally flip and convert to tensor as a compose. Apply the compose on image. Use <code>show_data()</code> to plot the second image (the image as <b>2</b>).\n"
   ]
  },
  {
   "cell_type": "code",
   "execution_count": null,
   "metadata": {
    "colab": {
     "base_uri": "https://localhost:8080/",
     "height": 281
    },
    "executionInfo": {
     "elapsed": 516,
     "status": "ok",
     "timestamp": 1625039085249,
     "user": {
      "displayName": "‎이혜린(자연과학대학 통계학과)",
      "photoUrl": "",
      "userId": "17465505332261896018"
     },
     "user_tz": -540
    },
    "id": "4Mx9rExIPc3A",
    "outputId": "a2473a18-0d12-4bc1-ff23-4d91a3f46a89"
   },
   "outputs": [
    {
     "data": {
      "image/png": "[encoded data removed]",
      "text/plain": [
       "<Figure size 432x288 with 1 Axes>"
      ]
     },
     "metadata": {
      "needs_background": "light",
      "tags": []
     },
     "output_type": "display_data"
    }
   ],
   "source": [
    "# Practice: Combine vertical flip, horizontal flip and convert to tensor as a compose. Apply the compose on image. Then plot the image\n",
    "\n",
    "# Type your code here\n",
    "\n",
    "transform_list = transforms.Compose([transforms.RandomVerticalFlip(p=1), transforms.RandomHorizontalFlip(p=1), transforms.ToTensor()])\n",
    "dataset = Dataset(csv_file=csv_file, data_dir=directory, transform=transform_list)\n",
    "show_data(dataset[1])"
   ]
  },
  {
   "cell_type": "markdown",
   "metadata": {
    "id": "IWrxo_P7REtm"
   },
   "source": [
    "## 3-3. Prebuilt Datasets and Transforms  \n",
    "3-2와 다른점 : `dsets` 라이브러리의 prebuilt dataset을 사용\n"
   ]
  },
  {
   "cell_type": "code",
   "execution_count": null,
   "metadata": {
    "id": "V3NxGyzUMhPa"
   },
   "outputs": [],
   "source": [
    "import torch\n",
    "import torchvision.datasets as dsets"
   ]
  },
  {
   "cell_type": "code",
   "execution_count": null,
   "metadata": {
    "id": "EXp-L3t4Mdg1"
   },
   "outputs": [],
   "source": [
    "# Show data by diagram\n",
    "\n",
    "def show_data(data_sample, shape = (28, 28)):\n",
    "    plt.imshow(data_sample[0].numpy().reshape(shape), cmap='gray')\n",
    "    plt.title('y = ' + str(data_sample[1]))"
   ]
  },
  {
   "cell_type": "markdown",
   "metadata": {
    "id": "FAnTub41NYJa"
   },
   "source": [
    "Try to use the <code>RandomVerticalFlip</code> (vertically flip the image) with horizontally flip and convert to tensor as a compose. Apply the compose on image. Use <code>show_data()</code> to plot the second image (the image as <b>2</b>).\n"
   ]
  },
  {
   "cell_type": "code",
   "execution_count": null,
   "metadata": {
    "colab": {
     "base_uri": "https://localhost:8080/",
     "height": 281
    },
    "executionInfo": {
     "elapsed": 566,
     "status": "ok",
     "timestamp": 1625039153772,
     "user": {
      "displayName": "‎이혜린(자연과학대학 통계학과)",
      "photoUrl": "",
      "userId": "17465505332261896018"
     },
     "user_tz": -540
    },
    "id": "e1WAS6XdMoCA",
    "outputId": "9007048b-cdf2-4ac7-dcb9-d094ddf30d36"
   },
   "outputs": [
    {
     "data": {
      "image/png": "[encoded data removed]",
      "text/plain": [
       "<Figure size 432x288 with 1 Axes>"
      ]
     },
     "metadata": {
      "needs_background": "light",
      "tags": []
     },
     "output_type": "display_data"
    }
   ],
   "source": [
    "transform_list = transforms.Compose([transforms.RandomVerticalFlip(p=1), transforms.RandomHorizontalFlip(p = 1), transforms.ToTensor()])\n",
    "dataset = dsets.MNIST(root = './data', download = True, transform = transform_list)\n",
    "show_data(dataset[1])"
   ]
  }
 ],
 "metadata": {
  "accelerator": "GPU",
  "colab": {
   "collapsed_sections": [],
   "machine_shape": "hm",
   "name": "Week1-Practice.ipynb의 사본",
   "provenance": [
    {
     "file_id": "1klfLNydwpQqGiWhQj6p0y4lJYJs9rI1I",
     "timestamp": 1625040321022
    }
   ]
  },
  "kernelspec": {
   "display_name": "Python 3",
   "language": "python",
   "name": "python3"
  },
  "language_info": {
   "codemirror_mode": {
    "name": "ipython",
    "version": 3
   },
   "file_extension": ".py",
   "mimetype": "text/x-python",
   "name": "python",
   "nbconvert_exporter": "python",
   "pygments_lexer": "ipython3",
   "version": "3.7.6"
  }
 },
 "nbformat": 4,
 "nbformat_minor": 5
}
